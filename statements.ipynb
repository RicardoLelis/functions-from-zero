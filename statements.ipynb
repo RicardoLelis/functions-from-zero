{
  "nbformat": 4,
  "nbformat_minor": 0,
  "metadata": {
    "colab": {
      "name": "statements.ipynb",
      "provenance": [],
      "authorship_tag": "ABX9TyNQJSYWRODp7VB0Mn9dOKfm",
      "include_colab_link": true
    },
    "kernelspec": {
      "name": "python3",
      "display_name": "Python 3"
    },
    "language_info": {
      "name": "python"
    }
  },
  "cells": [
    {
      "cell_type": "markdown",
      "metadata": {
        "id": "view-in-github",
        "colab_type": "text"
      },
      "source": [
        "<a href=\"https://colab.research.google.com/github/RicardoLelis/functions-from-zero/blob/main/statements.ipynb\" target=\"_parent\"><img src=\"https://colab.research.google.com/assets/colab-badge.svg\" alt=\"Open In Colab\"/></a>"
      ]
    },
    {
      "cell_type": "markdown",
      "source": [
        "## Learning Statements"
      ],
      "metadata": {
        "id": "yNDaNAgcb22m"
      }
    },
    {
      "cell_type": "code",
      "source": [
        "print(\"hello world\")"
      ],
      "metadata": {
        "colab": {
          "base_uri": "https://localhost:8080/"
        },
        "id": "CXprVl8qcGwW",
        "outputId": "4c28f75a-d3b5-4e5b-e1c4-30e9ee37113d"
      },
      "execution_count": null,
      "outputs": [
        {
          "output_type": "stream",
          "name": "stdout",
          "text": [
            "hello world\n"
          ]
        }
      ]
    },
    {
      "cell_type": "markdown",
      "source": [
        "### Variables"
      ],
      "metadata": {
        "id": "zOmMwfrNce8G"
      }
    },
    {
      "cell_type": "code",
      "source": [
        "variable = 1"
      ],
      "metadata": {
        "id": "PFaWLuipchfA"
      },
      "execution_count": 1,
      "outputs": []
    },
    {
      "cell_type": "code",
      "source": [
        "x = 1"
      ],
      "metadata": {
        "id": "8hO-i2gwdw90"
      },
      "execution_count": 2,
      "outputs": []
    },
    {
      "cell_type": "code",
      "source": [
        "y = 2"
      ],
      "metadata": {
        "id": "JaDyTFred0AF"
      },
      "execution_count": 3,
      "outputs": []
    },
    {
      "cell_type": "code",
      "source": [
        "x + y"
      ],
      "metadata": {
        "id": "7zeewLOpd1Lq",
        "outputId": "48bc1249-4f4a-4232-9adc-dd9e975ea495",
        "colab": {
          "base_uri": "https://localhost:8080/"
        }
      },
      "execution_count": 4,
      "outputs": [
        {
          "output_type": "execute_result",
          "data": {
            "text/plain": [
              "3"
            ]
          },
          "metadata": {},
          "execution_count": 4
        }
      ]
    },
    {
      "cell_type": "markdown",
      "source": [
        "### Data Structures"
      ],
      "metadata": {
        "id": "dEH_lDlheC39"
      }
    },
    {
      "cell_type": "markdown",
      "source": [
        "#### Lists"
      ],
      "metadata": {
        "id": "fa_FvJmVeYtF"
      }
    },
    {
      "cell_type": "code",
      "source": [
        "my_list = [1, 2, 3]"
      ],
      "metadata": {
        "id": "PA8VW6EBeG7M"
      },
      "execution_count": 5,
      "outputs": []
    },
    {
      "cell_type": "code",
      "source": [
        "my_list[0]"
      ],
      "metadata": {
        "id": "oNmrwc-GeK0b",
        "outputId": "8ab02399-97de-4927-dd87-1c7f073fa521",
        "colab": {
          "base_uri": "https://localhost:8080/"
        }
      },
      "execution_count": 7,
      "outputs": [
        {
          "output_type": "execute_result",
          "data": {
            "text/plain": [
              "1"
            ]
          },
          "metadata": {},
          "execution_count": 7
        }
      ]
    },
    {
      "cell_type": "code",
      "source": [
        "my_list[1]"
      ],
      "metadata": {
        "id": "AYAN1BKueMFp",
        "outputId": "896e1e1e-68b1-40ea-c4b8-380dbeaba29a",
        "colab": {
          "base_uri": "https://localhost:8080/"
        }
      },
      "execution_count": 8,
      "outputs": [
        {
          "output_type": "execute_result",
          "data": {
            "text/plain": [
              "2"
            ]
          },
          "metadata": {},
          "execution_count": 8
        }
      ]
    },
    {
      "cell_type": "code",
      "source": [
        "my_list[2]"
      ],
      "metadata": {
        "id": "P9Q7C8KyePkh",
        "outputId": "a9fc2846-f60f-486d-a94c-836ef234fad7",
        "colab": {
          "base_uri": "https://localhost:8080/"
        }
      },
      "execution_count": 10,
      "outputs": [
        {
          "output_type": "execute_result",
          "data": {
            "text/plain": [
              "3"
            ]
          },
          "metadata": {},
          "execution_count": 10
        }
      ]
    },
    {
      "cell_type": "markdown",
      "source": [
        ""
      ],
      "metadata": {
        "id": "Cv_UBxO7eXJl"
      }
    }
  ]
}